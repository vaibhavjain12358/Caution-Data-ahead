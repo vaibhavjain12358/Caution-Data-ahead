{
 "cells": [
  {
   "cell_type": "code",
   "execution_count": null,
   "metadata": {},
   "outputs": [],
   "source": [
    "# First we importe required libraries and provided them alias\n",
    "import numpy as np\n",
    "import pandas as pd\n",
    "import chardet"
   ]
  },
  {
   "cell_type": "code",
   "execution_count": null,
   "metadata": {},
   "outputs": [],
   "source": [
    "#Importing \"companies\" data file, provided to us.\n",
    "companies  = pd.read_csv(\"companies.txt\", sep=\"\\t\", encoding = \"ISO-8859-1\")\n",
    "#In case any special character available in file, we used following method\n",
    "companies=companies.applymap(lambda s: s.encode('utf-8').decode('ascii', 'ignore') if type(s) == str else s)\n",
    "companies"
   ]
  },
  {
   "cell_type": "code",
   "execution_count": null,
   "metadata": {},
   "outputs": [],
   "source": [
    "#Importing \"rounds2\" data file, provided to us\n",
    "rounds2  = pd.read_csv(\"rounds2.csv\", encoding=\"Latin-1\")\n",
    "#In case any special character available in file, we used following method\n",
    "rounds2=rounds2.applymap(lambda s: s.encode('utf-8').decode('ascii', 'ignore') if type(s) == str else s)\n",
    "rounds2"
   ]
  },
  {
   "cell_type": "code",
   "execution_count": null,
   "metadata": {},
   "outputs": [],
   "source": [
    "#To match the common attribute between \"companies\" and \"rounds2\" file, we made similiar case type.\n",
    "companies.permalink = companies.permalink.astype(str).str.lower()\n",
    "companies"
   ]
  },
  {
   "cell_type": "code",
   "execution_count": null,
   "metadata": {},
   "outputs": [],
   "source": [
    "#To match the common attribute between \"companies\" and \"rounds2\" file, we made similiar case type.\n",
    "rounds2.company_permalink = rounds2.company_permalink.astype(str).str.lower()\n",
    "rounds2"
   ]
  },
  {
   "cell_type": "code",
   "execution_count": null,
   "metadata": {},
   "outputs": [],
   "source": [
    "#unique companies are present in rounds2 \n",
    "len(sorted(rounds2['company_permalink'].unique()))"
   ]
  },
  {
   "cell_type": "code",
   "execution_count": null,
   "metadata": {},
   "outputs": [],
   "source": [
    "#unique companies are present in companies \n",
    "len(set(companies.permalink.tolist())) "
   ]
  },
  {
   "cell_type": "code",
   "execution_count": null,
   "metadata": {},
   "outputs": [],
   "source": [
    "#Checking there any companies in the rounds2 file which are not  present in companies\n",
    "print(len(rounds2.loc[~rounds2['company_permalink'].isin(companies['permalink']), :]))"
   ]
  },
  {
   "cell_type": "code",
   "execution_count": null,
   "metadata": {},
   "outputs": [],
   "source": [
    "#Creating Master Dataframe, Cheking output too.\n",
    "master_frame = pd.merge(rounds2,companies, how='left', left_on=['company_permalink'], right_on=['permalink'])\n",
    "master_frame"
   ]
  },
  {
   "cell_type": "code",
   "execution_count": null,
   "metadata": {},
   "outputs": [],
   "source": [
    "#Dropping rows having NAN values in \"raised_amount_usd\" column as it of no use. Created temporary dataframe\n",
    "master_frame_temp = master_frame[~np.isnan(master_frame['raised_amount_usd'])]"
   ]
  },
  {
   "cell_type": "code",
   "execution_count": null,
   "metadata": {},
   "outputs": [],
   "source": [
    "#Checking \"raised_amount_usd\" per \"funding_round_type\"\n",
    "master_frame_temp.groupby(['funding_round_type']).mean().round(1)"
   ]
  },
  {
   "cell_type": "code",
   "execution_count": null,
   "metadata": {},
   "outputs": [],
   "source": [
    "#Finding top 9 countries.\n",
    "new_df = master_frame.groupby(['country_code'], sort=True).sum()\n",
    "top9 = new_df.sort_values(by = ['raised_amount_usd'], ascending=[False]).head(9)\n",
    "top9"
   ]
  },
  {
   "cell_type": "code",
   "execution_count": null,
   "metadata": {},
   "outputs": [],
   "source": [
    "#Importing \"mapping.csv\" data file, provided to us.\n",
    "mapping  = pd.read_csv(\"mapping.csv\", encoding=\"Latin-1\")\n",
    "#In case any special character available in file, we used following method\n",
    "mapping=mapping.applymap(lambda s: s.encode('utf-8').decode('ascii', 'ignore') if type(s) == str else s)\n",
    "mapping.head()"
   ]
  },
  {
   "cell_type": "code",
   "execution_count": null,
   "metadata": {},
   "outputs": [],
   "source": [
    "#There is certain error in mapping file in \"category_list\" column. \"0\" is replaced by \"na\"\n",
    "mapping.category_list = mapping.category_list.str.replace(\"0\",\"na\")\n",
    "mapping.head(25)"
   ]
  },
  {
   "cell_type": "code",
   "execution_count": null,
   "metadata": {},
   "outputs": [],
   "source": [
    "#Created \"primary_sector\" column in master_frame by splitting \"category_list\"\n",
    "master_frame['primary_sector']=master_frame['category_list'].str.split('|').str[0]\n",
    "master_frame.head()"
   ]
  },
  {
   "cell_type": "code",
   "execution_count": null,
   "metadata": {},
   "outputs": [],
   "source": [
    "#Checking percentage of Null in master_frame per column\n",
    "round(100*(master_frame.isnull().sum()/len(master_frame.index)),2)"
   ]
  },
  {
   "cell_type": "code",
   "execution_count": null,
   "metadata": {},
   "outputs": [],
   "source": [
    "#REMOVING ALL THOSE ROWS WHERE primary_sector IS NULL\n",
    "master_frame = master_frame[~pd.isnull(master_frame['primary_sector'])]"
   ]
  },
  {
   "cell_type": "code",
   "execution_count": null,
   "metadata": {},
   "outputs": [],
   "source": [
    "#Custom function for mapping main_sector\n",
    "def mast_cat(arg1):\n",
    "    if arg1:\n",
    "        if arg1 in mapping.category_list.tolist():\n",
    "            df1 = mapping.loc[mapping['category_list'] == arg1]\n",
    "            df1.set_index('category_list', inplace = True)\n",
    "            arg2 = (df1 == 1).idxmax(axis=1)[0]\n",
    "            return arg2\n",
    "        else:\n",
    "            return 'Blanks'\n",
    "    else:\n",
    "        return 'Blanks' "
   ]
  },
  {
   "cell_type": "code",
   "execution_count": null,
   "metadata": {},
   "outputs": [],
   "source": [
    "#Adding \"main_sector\" column and checking output.\n",
    "master_frame['main_sector'] = master_frame.primary_sector.apply(lambda x: mast_cat(x) )\n",
    "master_frame"
   ]
  },
  {
   "cell_type": "code",
   "execution_count": null,
   "metadata": {},
   "outputs": [],
   "source": [
    "#Creating D1 satisfying specified conditions.\n",
    "D1 = master_frame.loc[ (master_frame['country_code'] == 'USA') & (5000000 < master_frame['raised_amount_usd']) & (master_frame['raised_amount_usd'] < 15000000) & (master_frame['funding_round_type'] =='venture') ]\n",
    "#Adding required columns in D1. Checking output.\n",
    "D1['count_main'] = D1.groupby('main_sector')['main_sector'].transform('count')\n",
    "D1['sum_raised_main'] = D1.groupby('main_sector')['raised_amount_usd'].transform('sum')\n",
    "D1.head()"
   ]
  },
  {
   "cell_type": "code",
   "execution_count": null,
   "metadata": {},
   "outputs": [],
   "source": [
    "#Creating D2 satisfying specified conditions.\n",
    "D2 = master_frame.loc[ (master_frame['country_code'] == 'GBR') & (5000000 < master_frame['raised_amount_usd']) & (master_frame['raised_amount_usd'] < 15000000) & (master_frame['funding_round_type'] =='venture')]\n",
    "#Adding required columns in D2. Checking output.\n",
    "D2['count_main'] = D2.groupby('main_sector')['main_sector'].transform('count')\n",
    "D2['sum_raised_main'] = D2.groupby('main_sector')['raised_amount_usd'].transform('sum')\n",
    "D2"
   ]
  },
  {
   "cell_type": "code",
   "execution_count": null,
   "metadata": {},
   "outputs": [],
   "source": [
    "#Creating D3 satisfying specified conditions.\n",
    "D3 = master_frame.loc[ (master_frame['country_code'] == 'IND') & (5000000 < master_frame['raised_amount_usd']) & (master_frame['raised_amount_usd'] < 15000000) & (master_frame['funding_round_type'] =='venture')]\n",
    "#Adding required columns in D3. Checking output.\n",
    "D3['count_main'] = D3.groupby('main_sector')['main_sector'].transform('count')\n",
    "D3['sum_raised_main'] = D3.groupby('main_sector')['raised_amount_usd'].transform('sum')\n",
    "D3"
   ]
  },
  {
   "cell_type": "code",
   "execution_count": null,
   "metadata": {},
   "outputs": [],
   "source": [
    "#Finding Total number of Investments (count) for D1\n",
    "inv_num = D1.drop_duplicates('main_sector')\n",
    "inv_num.count_main.sum()"
   ]
  },
  {
   "cell_type": "code",
   "execution_count": null,
   "metadata": {},
   "outputs": [],
   "source": [
    "#Finding Total number of Investments (count) for D2\n",
    "inv_num = D2.drop_duplicates('main_sector')\n",
    "inv_num.count_main.sum()"
   ]
  },
  {
   "cell_type": "code",
   "execution_count": null,
   "metadata": {},
   "outputs": [],
   "source": [
    "#Finding Total number of Investments (count) for D3\n",
    "inv_num = D3.drop_duplicates('main_sector')\n",
    "inv_num.count_main.sum()"
   ]
  },
  {
   "cell_type": "code",
   "execution_count": null,
   "metadata": {},
   "outputs": [],
   "source": [
    "#Finding Total amount of investment (USD) for D1\n",
    "D1.groupby('main_sector')['sum_raised_main'].unique().sum()"
   ]
  },
  {
   "cell_type": "code",
   "execution_count": null,
   "metadata": {},
   "outputs": [],
   "source": [
    "#Finding Total amount of investment (USD) for D2\n",
    "D2.groupby('main_sector')['sum_raised_main'].unique().sum()"
   ]
  },
  {
   "cell_type": "code",
   "execution_count": null,
   "metadata": {},
   "outputs": [],
   "source": [
    "#Finding Total amount of investment (USD) for D3\n",
    "D3.groupby('main_sector')['sum_raised_main'].unique().sum()"
   ]
  },
  {
   "cell_type": "code",
   "execution_count": null,
   "metadata": {},
   "outputs": [],
   "source": [
    "#Finding 3 largest main_sector for D1\n",
    "D1.drop_duplicates('main_sector').nlargest(3,'count_main')"
   ]
  },
  {
   "cell_type": "code",
   "execution_count": null,
   "metadata": {},
   "outputs": [],
   "source": [
    "#Finding 3 largest main_sector for D2\n",
    "D2.drop_duplicates('main_sector').nlargest(3,'count_main')"
   ]
  },
  {
   "cell_type": "code",
   "execution_count": null,
   "metadata": {},
   "outputs": [],
   "source": [
    "#Finding 3 largest main_sector for D3\n",
    "D3.drop_duplicates('main_sector').nlargest(3,'count_main')"
   ]
  },
  {
   "cell_type": "code",
   "execution_count": null,
   "metadata": {},
   "outputs": [],
   "source": [
    "#For top sector count-wise, To find which company received the highest investment ! For D1\n",
    "find1 = D1.loc[D1['main_sector'] == 'Others']\n",
    "find1['comp_inv_sum'] = D1.groupby('company_permalink')['raised_amount_usd'].transform('sum')\n",
    "find1.sort_values('comp_inv_sum', ascending=False).drop_duplicates(['company_permalink'])"
   ]
  },
  {
   "cell_type": "code",
   "execution_count": null,
   "metadata": {},
   "outputs": [],
   "source": [
    "#Forsecond best sector count-wise, which company received the highest investment! For D1\n",
    "find1 = D1.loc[D1['main_sector'] == 'Social, Finance, Analytics, Advertising']\n",
    "find1['comp_inv_sum'] = D1.groupby('company_permalink')['raised_amount_usd'].transform('sum')\n",
    "find1.sort_values('comp_inv_sum', ascending=False).drop_duplicates(['company_permalink'])"
   ]
  },
  {
   "cell_type": "code",
   "execution_count": null,
   "metadata": {},
   "outputs": [],
   "source": [
    "#For top sector count-wise, To find which company received the highest investment ! For D2\n",
    "find2 = D2.loc[D2['main_sector'] == 'Others']\n",
    "find2['comp_inv_sum'] = D2.groupby('company_permalink')['raised_amount_usd'].transform('sum')\n",
    "find2.sort_values('comp_inv_sum', ascending=False).drop_duplicates(['company_permalink'])"
   ]
  },
  {
   "cell_type": "code",
   "execution_count": null,
   "metadata": {},
   "outputs": [],
   "source": [
    "#Forsecond best sector count-wise, which company received the highest investment! For D2\n",
    "find2 = D2.loc[D2['main_sector'] == 'Cleantech / Semiconductors']\n",
    "find2['comp_inv_sum'] = D2.groupby('company_permalink')['raised_amount_usd'].transform('sum')\n",
    "find2.sort_values('comp_inv_sum', ascending=False).drop_duplicates(['company_permalink'])"
   ]
  },
  {
   "cell_type": "code",
   "execution_count": null,
   "metadata": {},
   "outputs": [],
   "source": [
    "#For top sector count-wise, To find which company received the highest investment ! For D3\n",
    "find3 = D3.loc[D3['main_sector'] == 'Others']\n",
    "find3['comp_inv_sum'] = D3.groupby('company_permalink')['raised_amount_usd'].transform('sum')\n",
    "find3.sort_values('comp_inv_sum', ascending=False).drop_duplicates(['company_permalink'])"
   ]
  },
  {
   "cell_type": "code",
   "execution_count": null,
   "metadata": {},
   "outputs": [],
   "source": [
    "#Forsecond best sector count-wise, which company received the highest investment! For D3\n",
    "find3 = D3.loc[D3['main_sector'] == 'Social, Finance, Analytics, Advertising']\n",
    "find3['comp_inv_sum'] = D3.groupby('company_permalink')['raised_amount_usd'].transform('sum')\n",
    "find3.sort_values('comp_inv_sum', ascending=False).drop_duplicates(['company_permalink'])"
   ]
  }
 ],
 "metadata": {
  "kernelspec": {
   "display_name": "Python 3",
   "language": "python",
   "name": "python3"
  },
  "language_info": {
   "codemirror_mode": {
    "name": "ipython",
    "version": 3
   },
   "file_extension": ".py",
   "mimetype": "text/x-python",
   "name": "python",
   "nbconvert_exporter": "python",
   "pygments_lexer": "ipython3",
   "version": "3.6.5"
  }
 },
 "nbformat": 4,
 "nbformat_minor": 2
}
